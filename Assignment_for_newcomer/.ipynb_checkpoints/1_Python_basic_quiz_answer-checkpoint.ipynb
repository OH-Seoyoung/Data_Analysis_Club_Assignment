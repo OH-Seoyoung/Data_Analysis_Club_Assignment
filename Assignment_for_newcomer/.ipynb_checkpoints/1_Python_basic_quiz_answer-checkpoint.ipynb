{
 "cells": [
  {
   "cell_type": "markdown",
   "metadata": {},
   "source": [
    "# 3기 과제 - 파이썬 기초 문제 풀기\n",
    "- 지금까지 배운 기초 문법을 토대로 아래의 문제들을 풀어보세요\n",
    "- **최대한 간단하게** 소스코드를 작성해 주세요\n",
    "- '이름_정답.ipynb' 로 저장 후 과제 폴더에 제출해주세요\n",
    "\n",
    "### 채점\n",
    "- 1-30번 문제는 개당 3점, 보너스문제는 개당 5점\n",
    "- 정답코드보다 많이 긴 경우 -1\n",
    "- 꼭 필요한 함수를 사용하지 않거나, 문제 의도에서 벗어난 경우 감점 (채점자 주관포함)\n",
    "- 보너스 문제 : 문제의 예시에서 벗어나고 주석을 통한 설명이 부족한 경우 감점"
   ]
  },
  {
   "cell_type": "markdown",
   "metadata": {},
   "source": [
    "> 1. 화면에 Hello World 문자열을 출력하세요."
   ]
  },
  {
   "cell_type": "code",
   "execution_count": 1,
   "metadata": {},
   "outputs": [
    {
     "name": "stdout",
     "output_type": "stream",
     "text": [
      "Hello World\n"
     ]
    }
   ],
   "source": [
    "print(\"Hello World\")"
   ]
  },
  {
   "cell_type": "markdown",
   "metadata": {},
   "source": [
    "> 2. print() 함수를 사용하여 다음과 같이 출력하세요. (hint : sep 인자를 사용하세요)\n",
    "\n",
    "실행 예 :   \n",
    "**월요일,화요일,수요일,목요일**"
   ]
  },
  {
   "cell_type": "code",
   "execution_count": 2,
   "metadata": {},
   "outputs": [
    {
     "name": "stdout",
     "output_type": "stream",
     "text": [
      "월요일,화요일,수요일,목요일\n"
     ]
    }
   ],
   "source": [
    "print('월요일', '화요일', '수요일', '목요일', sep = ',')"
   ]
  },
  {
   "cell_type": "markdown",
   "metadata": {},
   "source": [
    "> 3. 변수 s와 t에는 각각 문자열이 바인딩 되어있습니다. 두 변수를 이용하여 아래와 같이 출력해보세요.\n",
    "\n",
    "실행 예 :  \n",
    "**hello! python**"
   ]
  },
  {
   "cell_type": "code",
   "execution_count": 5,
   "metadata": {},
   "outputs": [
    {
     "name": "stdout",
     "output_type": "stream",
     "text": [
      "hello! python\n"
     ]
    }
   ],
   "source": [
    "s = \"hello\"\n",
    "t = \"python\"\n",
    "\n",
    "# start code 와 end code 사이에만 코드를 작성해 주세요!\n",
    "\n",
    "# ---------- start code ----------\n",
    "print(s + '! ' + t)\n",
    "# ---------- end code ------------"
   ]
  },
  {
   "cell_type": "markdown",
   "metadata": {},
   "source": [
    "> 4. a와 b의 데이터 타입을 출력하세요.    \n",
    "\n",
    "실행 예 :   \n",
    "**<class 'int'>**  \n",
    "**<class 'str'>**  "
   ]
  },
  {
   "cell_type": "code",
   "execution_count": 6,
   "metadata": {},
   "outputs": [
    {
     "name": "stdout",
     "output_type": "stream",
     "text": [
      "<class 'int'>\n",
      "<class 'str'>\n"
     ]
    }
   ],
   "source": [
    "a = 128\n",
    "b = 'Turtle'\n",
    "\n",
    "# start code 와 end code 사이에만 코드를 작성해 주세요!\n",
    "\n",
    "# ---------- start code ----------\n",
    "print(type(a))\n",
    "print(type(b))\n",
    "# ---------- end code ------------"
   ]
  },
  {
   "cell_type": "markdown",
   "metadata": {},
   "source": [
    "> 5. 문자열 '720'를 정수형으로 변환해보세요."
   ]
  },
  {
   "cell_type": "code",
   "execution_count": 8,
   "metadata": {},
   "outputs": [
    {
     "name": "stdout",
     "output_type": "stream",
     "text": [
      "720 <class 'int'>\n"
     ]
    }
   ],
   "source": [
    "num_str = \"720\"\n",
    "\n",
    "# ---------- start code ----------\n",
    "num_int = int(num_str)\n",
    "# ---------- end code ------------\n",
    "\n",
    "print(num_int, type(num_int))"
   ]
  },
  {
   "cell_type": "markdown",
   "metadata": {},
   "source": [
    "> 6. string 이 바인딩하는 문자열에서 네번째와 일곱번째 문자를 출력하세요.  \n",
    "\n",
    "실행 예 :  \n",
    "**o t**"
   ]
  },
  {
   "cell_type": "code",
   "execution_count": 9,
   "metadata": {},
   "outputs": [
    {
     "name": "stdout",
     "output_type": "stream",
     "text": [
      "o t\n"
     ]
    }
   ],
   "source": [
    "string = \"algorithm\"\n",
    "\n",
    "# ---------- start code ----------\n",
    "print(string[3], string[6])\n",
    "# ---------- end code ------------"
   ]
  },
  {
   "cell_type": "markdown",
   "metadata": {},
   "source": [
    "> 7. 문자열을 거꾸로 뒤집어 출력하세요.  \n",
    "\n",
    "실행 예 :   \n",
    "**NOHTYP**"
   ]
  },
  {
   "cell_type": "code",
   "execution_count": 10,
   "metadata": {},
   "outputs": [
    {
     "name": "stdout",
     "output_type": "stream",
     "text": [
      "NOHTYP\n"
     ]
    }
   ],
   "source": [
    "string = \"PYTHON\"\n",
    "\n",
    "# ---------- start code ----------\n",
    "print(string[::-1])\n",
    "# ---------- end code ------------"
   ]
  },
  {
   "cell_type": "markdown",
   "metadata": {},
   "source": [
    "> 8. 아래의 전화번호에서 하이푼 ('-')을 제거하고 출력하세요.  \n",
    "\n",
    "실행 예 :    \n",
    "**010 1234 1234**    "
   ]
  },
  {
   "cell_type": "code",
   "execution_count": 11,
   "metadata": {},
   "outputs": [
    {
     "name": "stdout",
     "output_type": "stream",
     "text": [
      "010 1234 1234\n"
     ]
    }
   ],
   "source": [
    "phone_num = \"010-1234-1234\"\n",
    "\n",
    "# ---------- start code ----------\n",
    "phone_num1 = phone_num.replace(\"-\", \" \")\n",
    "# ---------- end code ------------\n",
    "\n",
    "print(phone_num1)"
   ]
  },
  {
   "cell_type": "markdown",
   "metadata": {},
   "source": [
    "> 9. 다음과 같은 문자열이 있을 때 이를 소문자 datascience로 변경하여 출력하세요."
   ]
  },
  {
   "cell_type": "code",
   "execution_count": 12,
   "metadata": {},
   "outputs": [
    {
     "name": "stdout",
     "output_type": "stream",
     "text": [
      "datascience\n"
     ]
    }
   ],
   "source": [
    "string = 'DATASCIENCE'\n",
    "\n",
    "# ---------- start code ----------\n",
    "print(string.lower())\n",
    "# ---------- end code ------------"
   ]
  },
  {
   "cell_type": "markdown",
   "metadata": {},
   "source": [
    "> 10. color 리스트에는 아래와 같이 네 개의 색이 바인딩되어 있습니다. \"purple\"을 \"red\"와 \"blue\" 사이에 추가하고 출력하세요."
   ]
  },
  {
   "cell_type": "code",
   "execution_count": 15,
   "metadata": {},
   "outputs": [
    {
     "name": "stdout",
     "output_type": "stream",
     "text": [
      "['black', 'white', 'red', 'purple', 'blue', 'yellow']\n"
     ]
    }
   ],
   "source": [
    "color = [\"black\", \"white\", \"red\", \"blue\", \"yellow\"]\n",
    "\n",
    "# ---------- start code ----------\n",
    "color.insert(3, \"purple\")\n",
    "print(color)\n",
    "# ---------- end code ------------"
   ]
  },
  {
   "cell_type": "markdown",
   "metadata": {},
   "source": [
    "> 11. alpha 리스트에서 '100'를 삭제하고 출력하세요."
   ]
  },
  {
   "cell_type": "code",
   "execution_count": 16,
   "metadata": {},
   "outputs": [
    {
     "name": "stdout",
     "output_type": "stream",
     "text": [
      "['a', 'b', 'c', 'd']\n"
     ]
    }
   ],
   "source": [
    "alpha = ['a', 'b', '100', 'c', 'd']\n",
    "\n",
    "# ---------- start code ----------\n",
    "del alpha[2]\n",
    "print(alpha)\n",
    "# ---------- end code ------------"
   ]
  },
  {
   "cell_type": "markdown",
   "metadata": {},
   "source": [
    "> 12. 다음 리스트에서 최댓값과 최솟값을 출력하세요. (힌트: min(), max() 함수 사용) \n",
    "\n",
    "실행 예 :   \n",
    "**max:  7**  \n",
    "**min:  1**"
   ]
  },
  {
   "cell_type": "code",
   "execution_count": 17,
   "metadata": {
    "scrolled": true
   },
   "outputs": [
    {
     "name": "stdout",
     "output_type": "stream",
     "text": [
      "max:  7\n",
      "min:  1\n"
     ]
    }
   ],
   "source": [
    "nums = [1, 2, 3, 4, 5, 6, 7]\n",
    "\n",
    "# ---------- start code ----------\n",
    "print(\"max: \", max(nums))\n",
    "print(\"min: \", min(nums))\n",
    "# ---------- end code ------------"
   ]
  },
  {
   "cell_type": "markdown",
   "metadata": {},
   "source": [
    "> 13. 다음 리스트에 저장된 데이터의 개수를 출력하세요."
   ]
  },
  {
   "cell_type": "code",
   "execution_count": 24,
   "metadata": {},
   "outputs": [
    {
     "name": "stdout",
     "output_type": "stream",
     "text": [
      "7\n"
     ]
    }
   ],
   "source": [
    "day = [\"Mon\", \"Tue\", \"Wed\", \"Thu\", \"Fri\", \"Sat\", \"Sun\"]\n",
    "\n",
    "# ---------- start code ----------\n",
    "print(len(day))\n",
    "# ---------- end code ------------"
   ]
  },
  {
   "cell_type": "markdown",
   "metadata": {},
   "source": [
    "> 14. 다음 리스트의 평균과 합을 출력하세요."
   ]
  },
  {
   "cell_type": "code",
   "execution_count": 23,
   "metadata": {},
   "outputs": [
    {
     "name": "stdout",
     "output_type": "stream",
     "text": [
      "3.0\n",
      "15\n"
     ]
    }
   ],
   "source": [
    "nums = [1, 2, 3, 4, 5]\n",
    "\n",
    "# ---------- start code ----------\n",
    "print(sum(nums) / len(nums))\n",
    "print(sum(nums))\n",
    "# ---------- end code ------------"
   ]
  },
  {
   "cell_type": "markdown",
   "metadata": {},
   "source": [
    "> 15. interest 리스트에는 아래의 데이터가 바인딩되어 있습니다. 리스트 인덱싱을 사용하여 아래와 같이 화면에 출력하세요.  \n",
    "\n",
    "실행 예 :   \n",
    "**삼성전자 Naver**"
   ]
  },
  {
   "cell_type": "code",
   "execution_count": 25,
   "metadata": {},
   "outputs": [
    {
     "name": "stdout",
     "output_type": "stream",
     "text": [
      "삼성전자 Naver\n"
     ]
    }
   ],
   "source": [
    "interest = ['삼성전자', 'LG전자', 'Naver']\n",
    "\n",
    "# ---------- start code ----------\n",
    "print(interest[0], interest[2])\n",
    "# ---------- end code ------------"
   ]
  },
  {
   "cell_type": "markdown",
   "metadata": {},
   "source": [
    "> 16. empty 이름의 비어있는 튜플을 만드세요."
   ]
  },
  {
   "cell_type": "code",
   "execution_count": 28,
   "metadata": {},
   "outputs": [
    {
     "name": "stdout",
     "output_type": "stream",
     "text": [
      "<class 'tuple'>\n"
     ]
    }
   ],
   "source": [
    "# ---------- start code ----------\n",
    "empty = ()\n",
    "# ---------- end code ------------\n",
    "\n",
    "print(type(empty))"
   ]
  },
  {
   "cell_type": "markdown",
   "metadata": {},
   "source": [
    "> 17. list [5, 3, 1, -1, -3, -5, -7, -9] 가 출력되게 만드세요. 리스트를 만들 때는 'range'를 사용해야 합니다."
   ]
  },
  {
   "cell_type": "code",
   "execution_count": 29,
   "metadata": {},
   "outputs": [
    {
     "name": "stdout",
     "output_type": "stream",
     "text": [
      "[5, 3, 1, -1, -3, -5, -7, -9]\n"
     ]
    }
   ],
   "source": [
    "# ---------- start code ----------\n",
    "list = list(range(5, -10, -2))\n",
    "# ---------- end code ------------\n",
    "\n",
    "print(list)"
   ]
  },
  {
   "cell_type": "markdown",
   "metadata": {},
   "source": [
    "> 18. 국어, 영어, 수학, 과학 점수가 있을 때 한 과목이라도 50점 미만이면 불합격이라고 정했습니다.   \n",
    "코드를 완성하여 합격이면 True, 불합격이면 False가 출력되게 만드세요."
   ]
  },
  {
   "cell_type": "code",
   "execution_count": 30,
   "metadata": {},
   "outputs": [
    {
     "name": "stdout",
     "output_type": "stream",
     "text": [
      "False\n"
     ]
    }
   ],
   "source": [
    "kor = 92\n",
    "eng = 47\n",
    "mat = 86\n",
    "sci = 81\n",
    "\n",
    "# ---------- start code ----------\n",
    "print(kor >= 50 and eng >= 50 and mat >= 50 and sci >= 50)\n",
    "# ---------- end code ------------"
   ]
  },
  {
   "cell_type": "markdown",
   "metadata": {},
   "source": [
    "> 19. 사용자에게 정수 세 개를 **입력받으면** 합계를 출력하는 코드를 작성하세요. (힌트:input() 함수 사용)"
   ]
  },
  {
   "cell_type": "code",
   "execution_count": 34,
   "metadata": {},
   "outputs": [
    {
     "name": "stdout",
     "output_type": "stream",
     "text": [
      "10 11 12\n",
      "33\n"
     ]
    }
   ],
   "source": [
    "a, b, c = map(int, input().split())\n",
    "print(a + b + c)"
   ]
  },
  {
   "cell_type": "markdown",
   "metadata": {},
   "source": [
    "> 20-1. 다음 과일 이름과 색깔을 딕셔너리로 구성한 뒤 출력하세요.  \n",
    "20-2. 만든 딕셔너리를 사용하여 \"grape\" 의 색깔을 출력하세요.\n",
    "\n",
    "|과일|색깔|\n",
    "|------|---|\n",
    "|apple|red|\n",
    "|grape|purple|\n",
    "|lemon|yellow|"
   ]
  },
  {
   "cell_type": "code",
   "execution_count": 37,
   "metadata": {},
   "outputs": [
    {
     "name": "stdout",
     "output_type": "stream",
     "text": [
      "{'apple': 'red', 'grape': 'purple', 'lemon': 'yellow'}\n",
      "purple\n"
     ]
    }
   ],
   "source": [
    "# 20-1 question ------------------\n",
    "dic = {\"apple\": \"red\", \"grape\": \"purple\", \"lemon\": \"yellow\"}\n",
    "print(dic)\n",
    "# ---------- end code ------------\n",
    "\n",
    "\n",
    "# 20-2 question ------------------\n",
    "print(dic[\"grape\"])\n",
    "# ---------- end code ------------"
   ]
  },
  {
   "cell_type": "markdown",
   "metadata": {},
   "source": [
    "> 21. icecream 딕셔너리에서 아이스크림 판매 금액의 총합을 출력하세요."
   ]
  },
  {
   "cell_type": "code",
   "execution_count": 45,
   "metadata": {},
   "outputs": [
    {
     "name": "stdout",
     "output_type": "stream",
     "text": [
      "6700\n"
     ]
    }
   ],
   "source": [
    "icecream = {'탱크보이': 1200, '폴라포': 1200, '빵빠레': 1800, '월드콘': 1500, '메로나': 1000}\n",
    "\n",
    "# ---------- start code ----------\n",
    "print(sum(icecream.values()))\n",
    "# ---------- end code ------------"
   ]
  },
  {
   "cell_type": "markdown",
   "metadata": {},
   "source": [
    "> 22. 아래 두 개의 튜플을 하나의 딕셔너리로 변환하여 출력하세요. keys를 키로, vals를 값으로 저장해야 합니다."
   ]
  },
  {
   "cell_type": "code",
   "execution_count": 46,
   "metadata": {},
   "outputs": [
    {
     "name": "stdout",
     "output_type": "stream",
     "text": [
      "{'apple': 300, 'pear': 250, 'peach': 400}\n"
     ]
    }
   ],
   "source": [
    "keys = (\"apple\", \"pear\", \"peach\")\n",
    "vals = (300, 250, 400)\n",
    "\n",
    "# ---------- start code ----------\n",
    "result = dict(zip(keys, vals))\n",
    "print(result)\n",
    "# ---------- end code ------------"
   ]
  },
  {
   "cell_type": "markdown",
   "metadata": {},
   "source": [
    "> 23. x의 값이 10이 아닐 때 'ok'가 출력되게 만드세요. (if 조건문 사용)"
   ]
  },
  {
   "cell_type": "code",
   "execution_count": 48,
   "metadata": {},
   "outputs": [
    {
     "name": "stdout",
     "output_type": "stream",
     "text": [
      "ok\n"
     ]
    }
   ],
   "source": [
    "x = 5\n",
    "\n",
    "# ---------- start code ----------\n",
    "if x != 10 : \n",
    "    print(\"ok\")\n",
    "# ---------- end code ------------"
   ]
  },
  {
   "cell_type": "markdown",
   "metadata": {},
   "source": [
    "> 24. 변수 x가 11과 20 사이면 '11-20', 21과 30 사이면 '21-30', 아무것도 해당하지 않으면 '아무것도 해당하지 않음'이 출력되게 만드세요."
   ]
  },
  {
   "cell_type": "code",
   "execution_count": 49,
   "metadata": {},
   "outputs": [
    {
     "name": "stdout",
     "output_type": "stream",
     "text": [
      "22\n",
      "21~30\n"
     ]
    }
   ],
   "source": [
    "x = int(input())\n",
    "\n",
    "# ---------- start code ----------\n",
    "if 11 <= x <= 20:\n",
    "    print('11~20')\n",
    "elif 21 <= x <= 30:\n",
    "    print('21~30')\n",
    "else:\n",
    "    print('아무것도 해당하지 않음')\n",
    "# ---------- end code ------------"
   ]
  },
  {
   "cell_type": "markdown",
   "metadata": {},
   "source": [
    "> 25. 리스트 x에 들어있는 각 요소에 10을 곱한 값이 출력되게 만드세요. 모든 숫자는 공백으로 구분하여 한 줄로 출력되어야 합니다.\n",
    "\n",
    "실행 예 :   \n",
    "**490 -170 250 1020 80 620 210**"
   ]
  },
  {
   "cell_type": "code",
   "execution_count": 50,
   "metadata": {},
   "outputs": [
    {
     "name": "stdout",
     "output_type": "stream",
     "text": [
      "490 -170 250 1020 80 620 210 "
     ]
    }
   ],
   "source": [
    "x = [49, -17, 25, 102, 8, 62, 21]\n",
    "\n",
    "# ---------- start code ----------\n",
    "for i in x:\n",
    "    print(i * 10, end=' ')\n",
    "# ---------- end code ------------"
   ]
  },
  {
   "cell_type": "markdown",
   "metadata": {},
   "source": [
    "> 26. 0과 73 사이의 숫자 중 3으로 끝나는 숫자만 출력되게 만드세요.  \n",
    "\n",
    "실행 예 :    \n",
    "**3 13 23 33 43 53 63 73**"
   ]
  },
  {
   "cell_type": "code",
   "execution_count": 53,
   "metadata": {},
   "outputs": [
    {
     "name": "stdout",
     "output_type": "stream",
     "text": [
      "3 13 23 33 43 53 63 73 "
     ]
    }
   ],
   "source": [
    "i = 0\n",
    "while True:\n",
    "    \n",
    "    if i % 10 != 3:\n",
    "        i += 1\n",
    "        continue\n",
    "\n",
    "    if i > 73:\n",
    "        break        \n",
    "                   \n",
    "    print(i, end=' ')\n",
    "    i += 1"
   ]
  },
  {
   "cell_type": "markdown",
   "metadata": {},
   "source": [
    "> 27. 리스트 a에 들어있는 문자열 중에서 길이가 5인 것들만 리스트 형태로 출력되게 만드세요 (hint: 리스트 표현식)"
   ]
  },
  {
   "cell_type": "code",
   "execution_count": 54,
   "metadata": {},
   "outputs": [
    {
     "name": "stdout",
     "output_type": "stream",
     "text": [
      "['alpha', 'bravo', 'delta', 'hotel', 'india']\n"
     ]
    }
   ],
   "source": [
    "a = ['alpha', 'bravo', 'charlie', 'delta', 'echo', 'foxtrot', 'golf', 'hotel', 'india']\n",
    "\n",
    "# ---------- start code ----------\n",
    "b = [i for i in a if len(i) == 5]\n",
    "# ---------- end code ------------\n",
    "\n",
    "print(b)"
   ]
  },
  {
   "cell_type": "markdown",
   "metadata": {},
   "source": [
    "> 28. 두 개의 숫자를 입력받아 합/차/곱/나눗셈을 출력하는 \"print_arithmetic_operation\" 함수를 작성하라.  \n",
    "\n",
    "실행 예 :  \n",
    "**3 + 4 = 7**  \n",
    "**3 - 4 = -1**  \n",
    "**3 * 4 = 12**  \n",
    "**3 / 4 = 0.75**  "
   ]
  },
  {
   "cell_type": "code",
   "execution_count": 57,
   "metadata": {},
   "outputs": [
    {
     "name": "stdout",
     "output_type": "stream",
     "text": [
      "3 + 4 = 7\n",
      "3 - 4 = -1\n",
      "3 * 4 = 12\n",
      "3 / 4 = 0.75\n"
     ]
    }
   ],
   "source": [
    "# ---------- start code ----------    \n",
    "def print_arithmetic_operation(a, b):\n",
    "    print(a, \"+\", b, \"=\", a + b)\n",
    "    print(a, \"-\", b, \"=\", a - b)\n",
    "    print(a, \"*\", b, \"=\", a * b)\n",
    "    print(a, \"/\", b, \"=\", a / b)\n",
    "# ---------- end code ------------                                 \n",
    " \n",
    "print_arithmetic_operation(3, 4)"
   ]
  },
  {
   "cell_type": "markdown",
   "metadata": {},
   "source": [
    "> 29. 하나의 리스트를 입력받아 짝수만 화면에 출력하는 print_even 함수를 정의하라.  \n",
    "\n",
    "실행 예 :   \n",
    "**2**  \n",
    "**10**   \n",
    "**12**  "
   ]
  },
  {
   "cell_type": "code",
   "execution_count": 58,
   "metadata": {},
   "outputs": [
    {
     "name": "stdout",
     "output_type": "stream",
     "text": [
      "2\n",
      "10\n",
      "12\n"
     ]
    }
   ],
   "source": [
    "# ---------- start code ----------    \n",
    "def print_even (my_list) :\n",
    "    for v in my_list :\n",
    "        if v % 2 == 0 :\n",
    "            print(v)\n",
    "# ---------- end code ------------  \n",
    "\n",
    "print_even ([1, 3, 2, 10, 12, 11, 15])"
   ]
  },
  {
   "cell_type": "markdown",
   "metadata": {},
   "source": [
    "> 30. 아래와 같이 \"price_list\" 리스트의 데이터를 출력하라. 단, for문과 range문을 사용하라. (hint: enumerate)  \n",
    "\n",
    "실행 예 :   \n",
    "**0 32100**  \n",
    "**1 32150**  \n",
    "**2 32000**  \n",
    "**3 32500**"
   ]
  },
  {
   "cell_type": "code",
   "execution_count": 60,
   "metadata": {},
   "outputs": [
    {
     "name": "stdout",
     "output_type": "stream",
     "text": [
      "0 32100\n",
      "1 32150\n",
      "2 32000\n",
      "3 32500\n"
     ]
    }
   ],
   "source": [
    "price_list = [32100, 32150, 32000, 32500]\n",
    "\n",
    "# ---------- start code ----------   \n",
    "for i, data in enumerate(price_list):\n",
    "    print(i, data)\n",
    "# ---------- end code ------------  "
   ]
  },
  {
   "cell_type": "markdown",
   "metadata": {},
   "source": [
    "# 보너스 문제\n",
    "- 아래 네 개의 문제 중 두 개를 선택해서 풀고, 주석을 통해 코드를 간단히 설명해주세요."
   ]
  },
  {
   "cell_type": "markdown",
   "metadata": {},
   "source": [
    "## 1. 숫자 Up & Down 게임\n",
    "- 컴퓨터가 1~100 사이의 랜덤한 수를 제시하고 사용자가 그 수를 정해진 횟수 안에 맞추는 게임을 만들어보세요.\n",
    "- 실행 예 :   \n",
    "\n",
    "1~100 숫자 Up & Down 게임을 시작합니다 !!!  \n",
    "++++++++++++++++++++++++++++++++++++  \n",
    "1 ~ 100 사이의 숫자를 입력하세요 : 60  \n",
    "Down  \n",
    "1 ~ 100 사이의 숫자를 입력하세요 : 55  \n",
    "Up  \n",
    "1 ~ 100 사이의 숫자를 입력하세요 : 57  \n",
    "Up   \n",
    "++++++++++++++++++++++++++++++++++++  \n",
    "4 번 만에 정답을 맞추셨습니다"
   ]
  },
  {
   "cell_type": "code",
   "execution_count": 61,
   "metadata": {},
   "outputs": [
    {
     "name": "stdout",
     "output_type": "stream",
     "text": [
      "1~100 숫자 Up & Down 게임을 시작합니다 !!!\n",
      "---------------------------\n",
      "1 ~ 100 사이의 숫자를 입력하세요 : 20\n",
      "Down\n",
      "1 ~ 100 사이의 숫자를 입력하세요 : 40\n",
      "Down\n",
      "1 ~ 100 사이의 숫자를 입력하세요 : 10\n",
      "Down\n",
      "1 ~ 100 사이의 숫자를 입력하세요 : 1\n",
      "Up\n",
      "1 ~ 100 사이의 숫자를 입력하세요 : 5\n",
      "Down\n",
      "1 ~ 100 사이의 숫자를 입력하세요 : 3\n",
      "Up\n",
      "1 ~ 100 사이의 숫자를 입력하세요 : 4\n",
      "---------------------------\n",
      "7 번 만에 정답을 맞추셨습니다.\n"
     ]
    }
   ],
   "source": [
    "import random\n",
    "\n",
    "# 게임을 위한 랜덤 숫자 생성\n",
    "\n",
    "rn = random.randrange(1, 101, 1)\n",
    "num = -1\n",
    "\n",
    "t_cnt = 0 # 시도횟수\n",
    "\n",
    "print(\"1~100 숫자 Up & Down 게임을 시작합니다 !!!\")\n",
    "print(\"---------------------------\")\n",
    "while ( rn != num ):\n",
    "\n",
    "    num = int(input(\"1 ~ 100 사이의 숫자를 입력하세요 : \"))\n",
    "\n",
    "    if (num > rn):\n",
    "        print(\"Down\")\n",
    "    elif (num < rn):\n",
    "        print(\"Up\")\n",
    "\n",
    "    t_cnt += 1\n",
    "print(\"---------------------------\")\n",
    "print(t_cnt, \"번 만에 정답을 맞추셨습니다.\")"
   ]
  },
  {
   "cell_type": "markdown",
   "metadata": {},
   "source": [
    "## 2. 구구단 출력하기\n",
    "- 2단에서 9단까지 구구단을 출력하세요.\n",
    "- 실행 예 :   \n",
    "    \n",
    "★ 구구단을 출력합니다.  \n",
    "\n",
    "------- [2단] -------  \n",
    "2 X 1 = 2  \n",
    "2 X 2 = 4  \n",
    "2 X 3 = 6  \n",
    "2 X 4 = 8  \n",
    "2 X 5 = 10  \n",
    "2 X 6 = 12  \n",
    "2 X 7 = 14  \n",
    "2 X 8 = 16  \n",
    "2 X 9 = 18  \n",
    "------- [3단] -------  \n",
    "3 X 1 = 3  \n",
    "3 X 2 = 6  \n",
    "3 X 3 = 9  \n",
    "\n",
    "...\n",
    "\n",
    "------- [9단] -------  \n",
    "9 X 1 = 9  \n",
    "9 X 2 = 18  \n",
    "9 X 3 = 27  \n",
    "9 X 4 = 36  \n",
    "9 X 5 = 45  \n",
    "9 X 6 = 54  \n",
    "9 X 7 = 63  \n",
    "9 X 8 = 72  \n",
    "9 X 9 = 81  "
   ]
  },
  {
   "cell_type": "code",
   "execution_count": 62,
   "metadata": {},
   "outputs": [
    {
     "name": "stdout",
     "output_type": "stream",
     "text": [
      "★ 구구단을 출력합니다.\n",
      "\n",
      "------- [2단] -------\n",
      "2 X 1 = 2\n",
      "2 X 2 = 4\n",
      "2 X 3 = 6\n",
      "2 X 4 = 8\n",
      "2 X 5 = 10\n",
      "2 X 6 = 12\n",
      "2 X 7 = 14\n",
      "2 X 8 = 16\n",
      "2 X 9 = 18\n",
      "------- [3단] -------\n",
      "3 X 1 = 3\n",
      "3 X 2 = 6\n",
      "3 X 3 = 9\n",
      "3 X 4 = 12\n",
      "3 X 5 = 15\n",
      "3 X 6 = 18\n",
      "3 X 7 = 21\n",
      "3 X 8 = 24\n",
      "3 X 9 = 27\n",
      "------- [4단] -------\n",
      "4 X 1 = 4\n",
      "4 X 2 = 8\n",
      "4 X 3 = 12\n",
      "4 X 4 = 16\n",
      "4 X 5 = 20\n",
      "4 X 6 = 24\n",
      "4 X 7 = 28\n",
      "4 X 8 = 32\n",
      "4 X 9 = 36\n",
      "------- [5단] -------\n",
      "5 X 1 = 5\n",
      "5 X 2 = 10\n",
      "5 X 3 = 15\n",
      "5 X 4 = 20\n",
      "5 X 5 = 25\n",
      "5 X 6 = 30\n",
      "5 X 7 = 35\n",
      "5 X 8 = 40\n",
      "5 X 9 = 45\n",
      "------- [6단] -------\n",
      "6 X 1 = 6\n",
      "6 X 2 = 12\n",
      "6 X 3 = 18\n",
      "6 X 4 = 24\n",
      "6 X 5 = 30\n",
      "6 X 6 = 36\n",
      "6 X 7 = 42\n",
      "6 X 8 = 48\n",
      "6 X 9 = 54\n",
      "------- [7단] -------\n",
      "7 X 1 = 7\n",
      "7 X 2 = 14\n",
      "7 X 3 = 21\n",
      "7 X 4 = 28\n",
      "7 X 5 = 35\n",
      "7 X 6 = 42\n",
      "7 X 7 = 49\n",
      "7 X 8 = 56\n",
      "7 X 9 = 63\n",
      "------- [8단] -------\n",
      "8 X 1 = 8\n",
      "8 X 2 = 16\n",
      "8 X 3 = 24\n",
      "8 X 4 = 32\n",
      "8 X 5 = 40\n",
      "8 X 6 = 48\n",
      "8 X 7 = 56\n",
      "8 X 8 = 64\n",
      "8 X 9 = 72\n",
      "------- [9단] -------\n",
      "9 X 1 = 9\n",
      "9 X 2 = 18\n",
      "9 X 3 = 27\n",
      "9 X 4 = 36\n",
      "9 X 5 = 45\n",
      "9 X 6 = 54\n",
      "9 X 7 = 63\n",
      "9 X 8 = 72\n",
      "9 X 9 = 81\n",
      "---------------------\n"
     ]
    }
   ],
   "source": [
    "print(\"★ 구구단을 출력합니다.\\n\")\n",
    "for x in range(2, 10):\n",
    "    print(\"------- [\" + str(x) + \"단] -------\")\n",
    "    for y in range(1, 10):\n",
    "        print(x, \"X\", y, \"=\", x*y)\n",
    "print(\"---------------------\")"
   ]
  },
  {
   "cell_type": "markdown",
   "metadata": {},
   "source": [
    "## 3. (*)로 Tree 만들기\n",
    "- 사용자에게 Tree의 높이를 입력받아, 그 높이만큼 Tree를 출력하는 코드를 작성하세요.\n",
    "- 실행 예 :   \n",
    "    \n",
    "Tree 의 높이를 입력하세요(5~30) : 5\n",
    "    \n",
    "         *  \n",
    "        ***  \n",
    "       *****  \n",
    "      *******  \n",
    "     *********  \n",
    "        ***  \n",
    "        ***  \n",
    "        ***  "
   ]
  },
  {
   "cell_type": "code",
   "execution_count": 5,
   "metadata": {
    "scrolled": true
   },
   "outputs": [
    {
     "name": "stdout",
     "output_type": "stream",
     "text": [
      "Tree 의 높이를 입력하세요(5~30) : 5\n",
      "    *\n",
      "   ***\n",
      "  *****\n",
      " *******\n",
      "*********\n",
      "   ***\n",
      "   ***\n",
      "   ***\n"
     ]
    }
   ],
   "source": [
    "line = int(input(\"Tree 의 높이를 입력하세요(5~30) : \"))\n",
    "\n",
    "for x in range(1, line * 2, 2):\n",
    "    print((\" \" * ( (line * 2 - 1 - x) // 2 )) + (\"*\" * x))\n",
    "\n",
    "for y in range(1, 4):\n",
    "    print(\" \" * (line-2) + \"***\")"
   ]
  },
  {
   "cell_type": "markdown",
   "metadata": {},
   "source": [
    "## 4. 로또 번호 추출하기\n",
    "- 사용자에게 로또 개수를 입력 받아, 1부터 45까지 번호 중 여섯개의 로또 번호를 랜덤으로 생성하는 코드를 작성하세요.\n",
    "- 같은 로또 안에서 중복된 숫자가 있으면 안됩니다.\n",
    "- 실행 예 :   \n",
    "    \n",
    "로또 개수를 입력하세요 : 5  \n",
    "[6, 9, 13, 23, 36, 44]  \n",
    "[3, 7, 12, 27, 42, 44]  \n",
    "[8, 12, 28, 29, 31, 44]  \n",
    "[1, 24, 33, 37, 40, 45]  \n",
    "[9, 12, 22, 26, 36, 38]  "
   ]
  },
  {
   "cell_type": "code",
   "execution_count": 7,
   "metadata": {
    "scrolled": true
   },
   "outputs": [
    {
     "name": "stdout",
     "output_type": "stream",
     "text": [
      "로또 개수를 입력하세요 :5\n",
      "[6, 9, 13, 23, 36, 44]\n",
      "[3, 7, 12, 27, 42, 44]\n",
      "[8, 12, 28, 29, 31, 44]\n",
      "[1, 24, 33, 37, 40, 45]\n",
      "[9, 12, 22, 26, 36, 38]\n"
     ]
    }
   ],
   "source": [
    "import random\n",
    " \n",
    "gen_count = int(input(\"로또 개수를 입력하세요 : \"))\n",
    " \n",
    "arr = [x for x in range(1, 46)]  \n",
    "for x in range(0, gen_count):\n",
    "    random.shuffle(arr)     \n",
    "    arr_selected = arr[:6] \n",
    "    arr_selected.sort()     \n",
    "    print(arr_selected)    "
   ]
  },
  {
   "cell_type": "markdown",
   "metadata": {},
   "source": [
    "### Reference\n",
    "- Python 3.4 공부 좀 해볼까?\n",
    "- 파이썬 코딩 도장\n",
    "- 초보자를 위한 파이썬 300제"
   ]
  }
 ],
 "metadata": {
  "kernelspec": {
   "display_name": "Python 3",
   "language": "python",
   "name": "python3"
  },
  "language_info": {
   "codemirror_mode": {
    "name": "ipython",
    "version": 3
   },
   "file_extension": ".py",
   "mimetype": "text/x-python",
   "name": "python",
   "nbconvert_exporter": "python",
   "pygments_lexer": "ipython3",
   "version": "3.8.5"
  }
 },
 "nbformat": 4,
 "nbformat_minor": 4
}
