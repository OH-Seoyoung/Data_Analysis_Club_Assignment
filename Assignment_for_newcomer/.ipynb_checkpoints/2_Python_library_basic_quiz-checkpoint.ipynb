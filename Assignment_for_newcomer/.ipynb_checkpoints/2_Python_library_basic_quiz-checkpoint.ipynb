{
 "cells": [
  {
   "cell_type": "markdown",
   "metadata": {},
   "source": [
    "# 2기 과제 - 라이브러리 기초\n",
    "- 지금까지 배운 기초 문법을 토대로 아래의 문제들을 풀어보세요\n",
    "- **최대한 간단하게** 소스코드를 작성해 주세요\n",
    "- '이름_정답.ipynb' 로 저장 후 과제 폴더에 제출해주세요\n",
    "\n",
    "#### 점수를 매기는 과제가 아닙니다\n",
    "- 검색 또는 질문을 통해 오류없이 전체코드를 꼭 **완성**해 주세요."
   ]
  },
  {
   "cell_type": "markdown",
   "metadata": {},
   "source": [
    "> 0번. Numpy, Pandas, Matplotlib 패키지를 import 하세요."
   ]
  },
  {
   "cell_type": "code",
   "execution_count": 1,
   "metadata": {},
   "outputs": [],
   "source": []
  },
  {
   "cell_type": "markdown",
   "metadata": {},
   "source": [
    "> 1번. 4x2 크기의 정수로된 numpy array 를 만들고 아래의 두가지 특성과 array를 출력하세요.  \n",
    "\n",
    "- array 의 모든 원소들은 int16 타입을 가져야 합니다.  \n",
    "- 1) array의 shape  \n",
    "- 2) array의 dimension  \n",
    "\n",
    "**실행 예** :   \n",
    "\n",
    "[[12 32]  \n",
    " [32     0]  \n",
    " [52   462]  \n",
    " [    0     0]]  \n",
    "(4, 2)  \n",
    "2  "
   ]
  },
  {
   "cell_type": "code",
   "execution_count": null,
   "metadata": {},
   "outputs": [],
   "source": []
  },
  {
   "cell_type": "markdown",
   "metadata": {},
   "source": [
    "> 2번. 각 원소 간의 차이가 10이 되도록 100 ~ 200 범위의 **5X2** 정수 numpy array를 생성하고 출력하세요.  \n",
    "\n",
    "**실행 예** :   \n",
    "[[100 110]  \n",
    " [120 130]  \n",
    " [140 150]  \n",
    " [160 170]  \n",
    " [180 190]]  "
   ]
  },
  {
   "cell_type": "code",
   "execution_count": null,
   "metadata": {},
   "outputs": [],
   "source": []
  },
  {
   "cell_type": "markdown",
   "metadata": {},
   "source": [
    "> 3번. 다음 제공된 numpy array 의 모든 행에서 두번째 열의 원소들을 출력하세요\n",
    "\n",
    "**실행 예** :  \n",
    "[[11 22 33]  \n",
    " [44 55 66]  \n",
    " [77 88 99]]  \n",
    "\n",
    "[22 55 88]"
   ]
  },
  {
   "cell_type": "code",
   "execution_count": 2,
   "metadata": {},
   "outputs": [],
   "source": [
    "arr = np.array([[11 ,22, 33], [44, 55, 66], [77, 88, 99]])\n",
    "print(arr)\n",
    "print()\n",
    "\n",
    "# --- start code ---\n",
    "\n",
    "\n",
    "# --- end code ---"
   ]
  },
  {
   "cell_type": "markdown",
   "metadata": {},
   "source": [
    "> 4번. 다음 제공된 numpu array 의 원소 중 홀수 행이면서 짝수 열에 위치하는 원소들를 출력하세요.  \n",
    "\n",
    "**실행 예 :**  \n",
    "[[ 3  6  9 12]  \n",
    " [15 18 21 24]  \n",
    " [27 30 33 36]  \n",
    " [39 42 45 48]  \n",
    " [51 54 57 60]]  \n",
    " \n",
    " [[ 6 12]  \n",
    " [30 36]  \n",
    " [54 60]]  "
   ]
  },
  {
   "cell_type": "code",
   "execution_count": 3,
   "metadata": {},
   "outputs": [],
   "source": [
    "arr = np.array([[3 ,6, 9, 12], [15 ,18, 21, 24], [27 ,30, 33, 36], [39 ,42, 45, 48], [51 ,54, 57, 60]])\n",
    "print(arr)\n",
    "print()\n",
    "\n",
    "# --- start code ---\n",
    "\n",
    "\n",
    "# --- end code ---"
   ]
  },
  {
   "cell_type": "markdown",
   "metadata": {},
   "source": [
    "> 5번. 주어진 두 numpy array의 합을 계산하여 출력하고, 계산한 합 numpy array를 제곱하여 출력하세요.  \n",
    "\n",
    "**실행 예 :**  \n",
    "합 :   \n",
    " [[20 39 33]  \n",
    " [25 25 28]]  \n",
    "  \n",
    "제곱 :   \n",
    "[[ 400 1521 1089]  \n",
    " [ 625  625  784]]"
   ]
  },
  {
   "cell_type": "code",
   "execution_count": 4,
   "metadata": {},
   "outputs": [],
   "source": [
    "arrone = np.array([[5, 6, 9], [21 ,18, 27]])\n",
    "arrtwo = np.array([[15 ,33, 24], [4 ,7, 1]])\n",
    "\n",
    "# --- start code ---\n",
    "\n",
    "\n",
    "\n",
    "\n",
    "\n",
    "\n",
    "# --- end code ---"
   ]
  },
  {
   "cell_type": "markdown",
   "metadata": {},
   "source": [
    "> 6번. 각 원소 간의 차이가 1이 되도록 10에서 34 사이의 범위에서 8X3 정수 numpy array 를 만들어 출력한 다음,   \n",
    "numpy array 을 4개의 동일한 크기의 하위 numpy array 로 분할해서 출력하세요.  \n",
    "\n",
    "**실행 예 :**   \n",
    "[[10 11 12]  \n",
    " [13 14 15]  \n",
    " [16 17 18]  \n",
    " [19 20 21]  \n",
    " [22 23 24]  \n",
    " [25 26 27]  \n",
    " [28 29 30]  \n",
    " [31 32 33]]  \n",
    "\n",
    "[array([[10, 11, 12],[13, 14, 15]]),   \n",
    "array([[16, 17, 18],[19, 20, 21]]),   \n",
    "array([[22, 23, 24],[25, 26, 27]]),   \n",
    "array([[28, 29, 30],[31, 32, 33]])]  "
   ]
  },
  {
   "cell_type": "code",
   "execution_count": null,
   "metadata": {},
   "outputs": [],
   "source": []
  },
  {
   "cell_type": "markdown",
   "metadata": {},
   "source": [
    "> 7번. 주어진 numpy array에 대하여, 행과 열 기준으로 최댓값과 최솟값을 각각 출력하세요.  \n",
    "\n",
    "**실행 예 :**   \n",
    "[[34 43 73]  \n",
    " [82 22 12]  \n",
    " [53 94 66]]  \n",
    "\n",
    "[34 22 12]  \n",
    "[34 12 53]  \n",
    "[82 94 73]  \n",
    "[73 82 94]  "
   ]
  },
  {
   "cell_type": "code",
   "execution_count": 5,
   "metadata": {},
   "outputs": [],
   "source": [
    "arr = np.array([[34,43,73],[82,22,12],[53,94,66]])\n",
    "print(arr)\n",
    "print()\n",
    "\n",
    "# --- start code ---\n",
    "\n",
    "\n",
    "\n",
    "\n",
    "# --- end code ---"
   ]
  },
  {
   "cell_type": "markdown",
   "metadata": {},
   "source": [
    "> 8번. 주어진 arr 에 대하여, 두번째 행을 삭제하고 new_arr을 삽입하여 출력하세요.  \n",
    "\n",
    "**실행 예 :**  \n",
    "[[34 43 73]  \n",
    " [82 22 12]  \n",
    " [53 94 66]]  \n",
    "\n",
    "[[34 10 73]  \n",
    " [82 10 12]  \n",
    " [53 10 66]]  "
   ]
  },
  {
   "cell_type": "code",
   "execution_count": 6,
   "metadata": {},
   "outputs": [],
   "source": [
    "arr = np.array([[34,43,73],[82,22,12],[53,94,66]]) \n",
    "new_arr = np.array([[10,10,10]])\n",
    "\n",
    "print (arr)\n",
    "print()\n",
    "\n",
    "# --- start code ---\n",
    "\n",
    "\n",
    "\n",
    "# --- end code ---"
   ]
  },
  {
   "cell_type": "markdown",
   "metadata": {},
   "source": [
    "> 9번. 'company_sales_data.csv' 파일을 불러와 'Month number' 에 대한 'Total profit'을 선 플롯으로 시각화 하세요.   \n",
    "'Total profit' 데이터는 매달 제공됩니다. 선 플롯을 아래의 요소들을 적용시켜 함께 출력하세요.  \n",
    "타이틀 = Company profit per month  \n",
    "X 라벨 = Month Number  \n",
    "Y 라벨 = Total profit  \n",
    "\n",
    "**실행 예 :**  \n",
    "[[click]](https://github.com/OH-Seoyoung/Data_Analysis_Club_Assignment/blob/master/Assignment_for_newcomer/examples/ex1.jpg)"
   ]
  },
  {
   "cell_type": "code",
   "execution_count": null,
   "metadata": {
    "scrolled": false
   },
   "outputs": [],
   "source": []
  },
  {
   "cell_type": "markdown",
   "metadata": {},
   "source": [
    "> 10번. 'company_sales_data.csv' 파일을 불러와 모든 제품의 데이터를 읽어온 뒤 multiline plot 으로 시각화 하세요.  \n",
    "각 제품에 대해 매월 판매되는 단위 수를 표시하세요. 즉,  각 제품마다 다른 plot line 을 가져야합니다.  \n",
    "\n",
    "**실행 예** :  \n",
    "[[click]](https://github.com/OH-Seoyoung/Data_Analysis_Club_Assignment/blob/master/Assignment_for_newcomer/examples/ex2.jpg)"
   ]
  },
  {
   "cell_type": "code",
   "execution_count": null,
   "metadata": {},
   "outputs": [],
   "source": []
  },
  {
   "cell_type": "markdown",
   "metadata": {},
   "source": [
    "> 11번. 위와 같은 csv파일에서 매달 toothpaste 판매량 데이터를 불러온 뒤 scatter plot 으로 시각화 하세요.  \n",
    "plot에는 격자가 표시되어야 합니다   \n",
    "- gridline style :“--\"   \n",
    "    \n",
    "**실행 예 :**  \n",
    "[[click]](https://github.com/OH-Seoyoung/Data_Analysis_Club_Assignment/blob/master/Assignment_for_newcomer/examples/ex3.jpg)"
   ]
  },
  {
   "cell_type": "code",
   "execution_count": null,
   "metadata": {},
   "outputs": [],
   "source": [
    "  "
   ]
  },
  {
   "cell_type": "markdown",
   "metadata": {},
   "source": [
    "> 12번. 위와 같은 csv파일에서 매달 bathing soap 판매량 데이터를 불러온 뒤 bar chart 로 시각화 하세요.  \n",
    "plot을 jpg 파일로 컴퓨터에 저장한 뒤 (hint : savefig), 과제를 제출할때 ipynb 파일과 함께 압축해서 제출해 주세요.  \n",
    "\n",
    "**실행 예 :**  \n",
    "[[click]](https://github.com/OH-Seoyoung/Data_Analysis_Club_Assignment/blob/master/Assignment_for_newcomer/examples/ex4.jpg)"
   ]
  },
  {
   "cell_type": "code",
   "execution_count": null,
   "metadata": {
    "scrolled": true
   },
   "outputs": [],
   "source": []
  },
  {
   "cell_type": "markdown",
   "metadata": {},
   "source": [
    "> 13번. \"iris.csv\" 를 불러와서 (150,5) 크기의 numpy array로 만드세요.\n",
    "그리고 4개의 속성 (sepal.length, sepal.width, petal.length, petal.width) 를 **정규화** 해서 맨앞부터 다섯 행만 출력하세요.  \n",
    "(즉, 각 속성은 평균은 0, 표준편차가 1이 되어야 합니다.)  \n",
    "\n",
    "**실행 예 :**  \n",
    "array([[-0.90068117,  1.01900435, -1.34022653, -1.3154443 ],  \n",
    "       [-1.14301691, -0.13197948, -1.34022653, -1.3154443 ],  \n",
    "       [-1.38535265,  0.32841405, -1.39706395, -1.3154443 ],  \n",
    "       [-1.50652052,  0.09821729, -1.2833891 , -1.3154443 ],  \n",
    "       [-1.02184904,  1.24920112, -1.34022653, -1.3154443 ]])  "
   ]
  },
  {
   "cell_type": "code",
   "execution_count": null,
   "metadata": {
    "scrolled": false
   },
   "outputs": [],
   "source": []
  },
  {
   "cell_type": "markdown",
   "metadata": {},
   "source": [
    "> 14번. Iris 데이터의 4가지 속성을 boxplot 으로 시각화하세요.  \n",
    "\n",
    "**실행 예 :**  \n",
    "[[click]](https://github.com/OH-Seoyoung/Data_Analysis_Club_Assignment/blob/master/Assignment_for_newcomer/examples/ex5.jpg)"
   ]
  },
  {
   "cell_type": "code",
   "execution_count": null,
   "metadata": {
    "scrolled": true
   },
   "outputs": [],
   "source": []
  },
  {
   "cell_type": "markdown",
   "metadata": {},
   "source": [
    "> 15번. x축은 평균이 5, 표준편차가 3, y축은 평균이 3, 표준편차가 2 인 샘플을 1000개 만들어서 이를 산점도로 시각화하세요.  \n",
    "(hint : np.random.normal() 사용)  \n",
    "축의 비율 (x축과 y축의 눈금길이) 을 일정하게 만드세요 (hint : plt.axis()사용)  \n",
    "\n",
    "**실행 예** :   \n",
    "[[click]](https://github.com/OH-Seoyoung/Data_Analysis_Club_Assignment/blob/master/Assignment_for_newcomer/examples/ex6.jpg)"
   ]
  },
  {
   "cell_type": "code",
   "execution_count": null,
   "metadata": {
    "scrolled": true
   },
   "outputs": [],
   "source": []
  },
  {
   "cell_type": "markdown",
   "metadata": {},
   "source": [
    "> 16번. 시그모이드 함수는 로지스틱 함수로 알려져 있습니다. 이는 머신러닝뿐만 아니라 딥러닝에서도 사용되는 비선형 함수입니다.  \n",
    "실수 x 의 시그모이드 값을 반환하는 함수를 정의해주세요. 시그모이드 함수 식은 아래와 같습니다.  \n",
    "\n",
    "**실행 예** :  \n",
    "0.6456563062257954"
   ]
  },
  {
   "cell_type": "code",
   "execution_count": 7,
   "metadata": {},
   "outputs": [
    {
     "data": {
      "text/latex": [
       "$\\displaystyle sigmoid(x) = \\frac{1}{1+e^{-x}}$"
      ],
      "text/plain": [
       "<IPython.core.display.Math object>"
      ]
     },
     "metadata": {},
     "output_type": "display_data"
    }
   ],
   "source": [
    "# don't touch here\n",
    "from IPython.display import display, Math, Latex\n",
    "display(Math(r'sigmoid(x) = \\frac{1}{1+e^{-x}}'))"
   ]
  },
  {
   "cell_type": "code",
   "execution_count": 8,
   "metadata": {},
   "outputs": [],
   "source": [
    "import math  # math 라이브러리 사용하기\n",
    "\n",
    "def sigmoid(x):\n",
    "\n",
    "    \n",
    "# --- start code ------\n",
    "\n",
    "# --- end code --------\n",
    "    \n",
    "    return s\n",
    "\n",
    "print(sigmoid(0.6))"
   ]
  },
  {
   "cell_type": "markdown",
   "metadata": {},
   "source": [
    "> 17번. 아무 jpg 사진파일을 가져와서 numpy array로 불러온뒤, 이미지의 shape와 데이터타입을 출력하세요"
   ]
  },
  {
   "cell_type": "code",
   "execution_count": 11,
   "metadata": {
    "scrolled": true
   },
   "outputs": [],
   "source": [
    "from PIL import Image\n",
    "\n",
    "img = np.array(Image.open('이미지 이름을 쓰세요.jpg'))\n",
    "\n",
    "# --- start code ------\n",
    "\n",
    "\n",
    "# --- end code --------\n",
    "\n",
    "plt.imshow(img)\n",
    "plt.show()"
   ]
  },
  {
   "cell_type": "markdown",
   "metadata": {},
   "source": [
    "> 18번. 위와 같은 방법으로 동일한 이미지를 흑백으로 불러와보세요. 그리고 shape와 데이터타입을 출력하세요.  \n",
    "출력된 shape의 형태을 통해 알 수 있는 컬러이미지와 흑백이미지의 차이를 주석을 통해 설명하세요."
   ]
  },
  {
   "cell_type": "code",
   "execution_count": 12,
   "metadata": {
    "scrolled": true
   },
   "outputs": [],
   "source": [
    "# --- start code ------\n",
    "\n",
    "\n",
    "\n",
    "# --- end code --------\n",
    "\n",
    "plt.imshow(img_gray, cmap = 'gray')\n",
    "plt.show()"
   ]
  },
  {
   "cell_type": "markdown",
   "metadata": {},
   "source": [
    "> 19번. 위의 **흑백 이미지**를 사용하여 아래 세가지 식을 계산하고, 각각의 최댓값과 최솟값을 출력하세요.  "
   ]
  },
  {
   "cell_type": "code",
   "execution_count": 102,
   "metadata": {
    "scrolled": true
   },
   "outputs": [
    {
     "name": "stdout",
     "output_type": "stream",
     "text": [
      "X : 흑백 이미지 numpy array\n"
     ]
    },
    {
     "data": {
      "text/latex": [
       "$\\displaystyle X1 = 255 - X$"
      ],
      "text/plain": [
       "<IPython.core.display.Math object>"
      ]
     },
     "metadata": {},
     "output_type": "display_data"
    },
    {
     "data": {
      "text/latex": [
       "$\\displaystyle X2 = (100 / 255) * X + 100  $"
      ],
      "text/plain": [
       "<IPython.core.display.Math object>"
      ]
     },
     "metadata": {},
     "output_type": "display_data"
    },
    {
     "data": {
      "text/latex": [
       "$\\displaystyle X3 = 255 * (X / 255) ** 2  $"
      ],
      "text/plain": [
       "<IPython.core.display.Math object>"
      ]
     },
     "metadata": {},
     "output_type": "display_data"
    }
   ],
   "source": [
    "# don't touch here\n",
    "from IPython.display import display, Math, Latex\n",
    "print('X : 흑백 이미지 numpy array')\n",
    "display(Math('X1 = 255 - X'))\n",
    "display(Math('X2 = (100 / 255) * X + 100  '))\n",
    "display(Math('X3 = 255 * (X / 255) ** 2  '))"
   ]
  },
  {
   "cell_type": "code",
   "execution_count": 13,
   "metadata": {
    "scrolled": true
   },
   "outputs": [],
   "source": [
    "# --- start code ------\n"
   ]
  },
  {
   "cell_type": "markdown",
   "metadata": {},
   "source": [
    "> 20. 앞서 계산한 세가지 결과 (X1, X2, X3) 를 subplot을 사용하여 동시에 출력해 보세요. (hint : plt.imshow())  \n",
    "\n",
    "**실행 예 :**   \n",
    "[[click]](https://github.com/OH-Seoyoung/Data_Analysis_Club_Assignment/blob/master/Assignment_for_newcomer/examples/ex7.jpg)"
   ]
  },
  {
   "cell_type": "code",
   "execution_count": null,
   "metadata": {
    "scrolled": true
   },
   "outputs": [],
   "source": []
  },
  {
   "cell_type": "markdown",
   "metadata": {},
   "source": [
    "## 수고하셨습니다\n",
    "- 12번 문제에서 생성한 jpg 파일과 코드파일을 함께 압축해서 드라이브에 올려주세요"
   ]
  }
 ],
 "metadata": {
  "kernelspec": {
   "display_name": "Python 3",
   "language": "python",
   "name": "python3"
  },
  "language_info": {
   "codemirror_mode": {
    "name": "ipython",
    "version": 3
   },
   "file_extension": ".py",
   "mimetype": "text/x-python",
   "name": "python",
   "nbconvert_exporter": "python",
   "pygments_lexer": "ipython3",
   "version": "3.8.3"
  }
 },
 "nbformat": 4,
 "nbformat_minor": 4
}
